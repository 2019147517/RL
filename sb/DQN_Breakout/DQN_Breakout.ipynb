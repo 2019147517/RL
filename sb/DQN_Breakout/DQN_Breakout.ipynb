{
  "nbformat": 4,
  "nbformat_minor": 0,
  "metadata": {
    "colab": {
      "name": "DQN-Breakout.ipynb",
      "provenance": [],
      "machine_shape": "hm",
      "collapsed_sections": [],
      "authorship_tag": "ABX9TyPcpsDli8Ml3bULbo2GvG04",
      "include_colab_link": true
    },
    "kernelspec": {
      "name": "python3",
      "display_name": "Python 3"
    },
    "language_info": {
      "name": "python"
    },
    "accelerator": "TPU"
  },
  "cells": [
    {
      "cell_type": "markdown",
      "metadata": {
        "id": "view-in-github",
        "colab_type": "text"
      },
      "source": [
        "<a href=\"https://colab.research.google.com/github/2019147517/RL/blob/main/sb/DQN_Breakout/DQN_Breakout.ipynb\" target=\"_parent\"><img src=\"https://colab.research.google.com/assets/colab-badge.svg\" alt=\"Open In Colab\"/></a>"
      ]
    },
    {
      "cell_type": "code",
      "execution_count": null,
      "metadata": {
        "colab": {
          "base_uri": "https://localhost:8080/"
        },
        "id": "cLtbOONvHkVf",
        "outputId": "3a1b78c6-838e-4b1b-ea09-8f9c6c14ed82"
      },
      "outputs": [
        {
          "output_type": "stream",
          "name": "stdout",
          "text": [
            "Mounted at /content/drive\n"
          ]
        }
      ],
      "source": [
        "from google.colab import drive\n",
        "drive.mount('/content/drive')"
      ]
    },
    {
      "cell_type": "code",
      "source": [
        "import IPython"
      ],
      "metadata": {
        "id": "qurJaUFKIrC_"
      },
      "execution_count": null,
      "outputs": []
    },
    {
      "cell_type": "code",
      "source": [
        "# HIDE OUTPUT\n",
        "! wget http://www.atarimania.com/roms/Roms.rar\n",
        "! mkdir /content/ROM/\n",
        "! unrar e -o+ /content/Roms.rar /content/ROM/\n",
        "! python -m atari_py.import_roms /content/ROM/\n",
        "IPython.display.clear_output(wait=False)"
      ],
      "metadata": {
        "id": "4-mALgOMIsWv"
      },
      "execution_count": null,
      "outputs": []
    },
    {
      "cell_type": "code",
      "source": [
        "!git clone https://github.com/openai/baselines.git\n",
        "%cd baselines\n",
        "!pip install -e .\n",
        "IPython.display.clear_output(wait=False)"
      ],
      "metadata": {
        "id": "YPWgLZ-rKzvP"
      },
      "execution_count": null,
      "outputs": []
    },
    {
      "cell_type": "code",
      "source": [
        "from baselines.common.atari_wrappers import make_atari, wrap_deepmind\n",
        "import numpy as np\n",
        "import matplotlib.pyplot as plt\n",
        "import random\n",
        "import os\n",
        "from collections import deque, namedtuple\n",
        "from itertools import count\n",
        "import imageio\n",
        "import base64\n",
        "\n",
        "import gym\n",
        "import torch\n",
        "import torch.nn as nn\n",
        "import torch.optim as optim\n",
        "import torch.nn.functional as F\n",
        "import torchvision.transforms as T"
      ],
      "metadata": {
        "id": "0aTWae7ALDMZ"
      },
      "execution_count": null,
      "outputs": []
    },
    {
      "cell_type": "code",
      "source": [
        "# Configuration paramaters for the whole setup\n",
        "SEED = 42\n",
        "GAMMA = 0.99  # Discount factor for past rewards\n",
        "EPS_MIN = 0.1  # Minimum epsilon greedy parameter\n",
        "EPS_MAX = 1.0  # Maximum epsilon greedy parameter\n",
        "EPS_DECAY = 300000 # EPS_MIN after EPS_DECAY steps\n",
        "BATCH_SIZE = 32  # Size of batch taken from replay buffer\n",
        "MAX_STEPS_PER_EPISODE = 10000\n",
        "WEIGHT_UPDATE_PER_EPOCH = 5000\n",
        "TARGET_UPDATE = 10\n",
        "NUM_EPOCHS = 1000\n",
        "MAX_MEMORY_LENGTH = 50000"
      ],
      "metadata": {
        "id": "RfCAiEoyK05I"
      },
      "execution_count": null,
      "outputs": []
    },
    {
      "cell_type": "code",
      "source": [
        "History = namedtuple('History',\n",
        "                     ('state', 'action', 'next_state', 'reward'))\n",
        "\n",
        "class ReplayMemory():\n",
        "    def __init__(self, max_len):\n",
        "        self.memory = deque([], maxlen=max_len)\n",
        "\n",
        "    def push(self, *args):\n",
        "        self.memory.append(History(*args))\n",
        "\n",
        "    def sample(self, batch_size):\n",
        "        return random.sample(self.memory, batch_size)\n",
        "\n",
        "    def __len__(self):\n",
        "        return len(self.memory)"
      ],
      "metadata": {
        "id": "HMVGeaMgXplj"
      },
      "execution_count": null,
      "outputs": []
    },
    {
      "cell_type": "code",
      "source": [
        "# Use the Baseline Atari environment because of Deepmind helper functions\n",
        "env1 = make_atari(\"BreakoutNoFrameskip-v4\")\n",
        "# Warp the frames, grey scale, stake four frame and scale to smaller ratio\n",
        "env = wrap_deepmind(env1, frame_stack=True, scale=True)\n",
        "env.seed(SEED)"
      ],
      "metadata": {
        "colab": {
          "base_uri": "https://localhost:8080/"
        },
        "id": "r3oH8OkELzHK",
        "outputId": "db356cf1-4b72-4b28-e6c6-807e7684cc17"
      },
      "execution_count": null,
      "outputs": [
        {
          "output_type": "stream",
          "name": "stderr",
          "text": [
            "/usr/local/lib/python3.7/dist-packages/gym/logger.py:30: UserWarning: \u001b[33mWARN: Box bound precision lowered by casting to float32\u001b[0m\n",
            "  warnings.warn(colorize('%s: %s'%('WARN', msg % args), 'yellow'))\n"
          ]
        },
        {
          "output_type": "execute_result",
          "data": {
            "text/plain": [
              "[42, 742738649]"
            ]
          },
          "metadata": {},
          "execution_count": 9
        }
      ]
    },
    {
      "cell_type": "code",
      "source": [
        "device = torch.device(\"cuda\" if torch.cuda.is_available() else \"cpu\")"
      ],
      "metadata": {
        "id": "HrurbssEQwhF"
      },
      "execution_count": null,
      "outputs": []
    },
    {
      "cell_type": "code",
      "source": [
        "class DQN(nn.Module):\n",
        "    def __init__(self, h, w, outputs):\n",
        "        super().__init__()\n",
        "        self.conv1 = nn.Conv2d(4, 32, 8, 4)\n",
        "        self.conv2 = nn.Conv2d(32, 64, 4, 2)\n",
        "        self.conv3 = nn.Conv2d(64, 64, 3, 1)\n",
        "\n",
        "        def conv2d_size_out(size, kernel_size, stride):\n",
        "            return (size - (kernel_size-1) - 1) // stride + 1\n",
        "            \n",
        "        conv1_w = conv2d_size_out(w, 8, 4)\n",
        "        conv2_w = conv2d_size_out(conv1_w, 4, 2)\n",
        "        conv3_w = conv2d_size_out(conv2_w, 3, 1)\n",
        "\n",
        "        conv1_h = conv2d_size_out(h, 8, 4)\n",
        "        conv2_h = conv2d_size_out(conv1_h, 4, 2)\n",
        "        conv3_h = conv2d_size_out(conv2_h, 3, 1)\n",
        "\n",
        "        linear_input_size = conv3_w * conv3_h * 64\n",
        "\n",
        "        self.fc1 = nn.Linear(linear_input_size, 512)\n",
        "        self.fc2 = nn.Linear(512, outputs)\n",
        "\n",
        "    def forward(self, x):\n",
        "        x = x.to(device)\n",
        "        x = F.relu(self.conv1(x))\n",
        "        x = F.relu(self.conv2(x))\n",
        "        x = F.relu(self.conv3(x))\n",
        "        x = F.relu(self.fc1(x.view(x.size(0), -1)))\n",
        "        x = self.fc2(x)\n",
        "        return x"
      ],
      "metadata": {
        "id": "786tYbxCLztG"
      },
      "execution_count": null,
      "outputs": []
    },
    {
      "cell_type": "code",
      "source": [
        "def select_action(state):\n",
        "    global steps_done, Q_value, timestep\n",
        "    sample = random.random()\n",
        "    epsilon = max(EPS_MIN, EPS_MAX-(EPS_MAX - EPS_MIN)/EPS_DECAY*steps_done)\n",
        "    steps_done += 1\n",
        "    with torch.no_grad():\n",
        "        action_prob = policy_net(state)\n",
        "\n",
        "        Q_value = (Q_value*(timestep-1) + action_prob.max(1)[0].item())/timestep\n",
        "        action = action_prob.max(1)[1].view(1, 1)\n",
        "\n",
        "    if sample > epsilon:\n",
        "        return action\n",
        "    else:\n",
        "        return torch.tensor([[random.randrange(num_actions)]], device=device,\n",
        "                            dtype=torch.long)"
      ],
      "metadata": {
        "id": "GBlNOO8OTqbr"
      },
      "execution_count": null,
      "outputs": []
    },
    {
      "cell_type": "code",
      "source": [
        "def optimize_model():\n",
        "    if len(memory) < BATCH_SIZE:\n",
        "        return\n",
        "    history = memory.sample(BATCH_SIZE)\n",
        "    batch = History(*zip(*history))\n",
        "\n",
        "    non_final_mask = torch.tensor(tuple(map(lambda s: s is not None, batch.next_state)),\n",
        "                                  device=device, dtype=torch.bool)\n",
        "    non_final_next_states = torch.cat([s for s in batch.next_state if s is not None])\n",
        "\n",
        "    state_batch = torch.cat(batch.state)\n",
        "    action_batch = torch.cat(batch.action)\n",
        "    reward_batch = torch.cat(batch.reward)\n",
        "\n",
        "    state_action_values = policy_net(state_batch).gather(1, action_batch)\n",
        "    next_state_values = torch.zeros(BATCH_SIZE, device=device)\n",
        "    next_state_values[non_final_mask] = target_net(non_final_next_states).max(1)[0].detach()\n",
        "    expected_state_action_values = (next_state_values * GAMMA) + reward_batch\n",
        "    criterion = nn.HuberLoss()\n",
        "    loss = criterion(state_action_values.float(), \n",
        "                     expected_state_action_values.unsqueeze(1).float())\n",
        "\n",
        "    optimizer.zero_grad()\n",
        "    loss.backward()\n",
        "    optimizer.step()"
      ],
      "metadata": {
        "id": "DCTvVmRQgmWi"
      },
      "execution_count": null,
      "outputs": []
    },
    {
      "cell_type": "code",
      "source": [
        "def embed_mp4(filename):\n",
        "    \"\"\"Embeds an mp4 file in the notebook.\"\"\"\n",
        "    video = open(filename, 'rb').read()\n",
        "    b64 = base64.b64encode(video)\n",
        "    tag = '''\n",
        "  <video width=\"640\" height=\"480\" controls>\n",
        "    <source src=\"data:video/mp4;base64,{0}\" type=\"video/mp4\">\n",
        "  Your browser does not support the video tag.\n",
        "  </video>'''.format(b64.decode())\n",
        "\n",
        "    return IPython.display.HTML(tag)\n",
        "\n",
        "\n",
        "def create_policy_eval_video(filename, num_episodes=5, train=False,\n",
        "                    PATH='/content/drive/MyDrive/Colab Notebooks/model.pt'):\n",
        "    if not train:\n",
        "        target_net.load_state_dict(torch.load(PATH))\n",
        "        target_net.eval()\n",
        "\n",
        "    filename = filename + \".mp4\"\n",
        "    with imageio.get_writer(filename, fps=30) as video:\n",
        "        for _ in range(num_episodes):\n",
        "            state = T.ToTensor()(np.array(env.reset())).unsqueeze(0)\n",
        "            video.append_data(env1.render(mode='rgb_array'))\n",
        "            done = False\n",
        "            while not done:\n",
        "                with torch.no_grad():\n",
        "                    action = target_net(state).max(1)[1].view(1, 1)\n",
        "                next_state, reward, done, etc = env.step(action.item())\n",
        "                next_state =  T.ToTensor()(np.array(next_state)).unsqueeze(0)\n",
        "                state = next_state\n",
        "                video.append_data(env1.render(mode='rgb_array'))\n",
        "    if train:\n",
        "        return\n",
        "    else:\n",
        "        return embed_mp4(filename)\n",
        "\n",
        "def plot_epoch_reward(epoch_avg_rewards, epoch_avg_Q):\n",
        "    IPython.display.clear_output(wait=True)\n",
        "    plt.clf()\n",
        "    plt.figure(figsize = (8,4))\n",
        "    plt.subplots_adjust(wspace=0.5)\n",
        "    plt.subplot(1,2,1)\n",
        "    plt.xlabel('Epoches')\n",
        "    plt.ylabel('reward')\n",
        "    plt.plot(np.arange(1, len(epoch_avg_rewards)+1), epoch_avg_rewards)\n",
        "\n",
        "    plt.subplot(1,2,2)\n",
        "    plt.xlabel('Epoches')\n",
        "    plt.ylabel('Q value')\n",
        "    plt.plot(np.arange(1, len(epoch_avg_Q)+1), epoch_avg_Q)\n",
        "    plt.pause(0.001)"
      ],
      "metadata": {
        "id": "fOhBQZq4kelj"
      },
      "execution_count": null,
      "outputs": []
    },
    {
      "cell_type": "code",
      "source": [
        "state = np.array(env.reset())\n",
        "height, width, frames = state.shape # (84, 84, 4)\n",
        "num_actions = env.action_space.n # 4\n",
        "\n",
        "policy_net = DQN(height, width, num_actions).to(device)\n",
        "target_net = DQN(height, width, num_actions).to(device)\n",
        "target_net.load_state_dict(policy_net.state_dict())\n",
        "target_net.eval()\n",
        "\n",
        "optimizer = optim.Adam(policy_net.parameters(), lr=0.00025)\n",
        "\n",
        "memory = ReplayMemory(MAX_MEMORY_LENGTH)"
      ],
      "metadata": {
        "id": "SoFjYyaISLov"
      },
      "execution_count": null,
      "outputs": []
    },
    {
      "cell_type": "code",
      "source": [
        "epoch_avg_rewards, epoch_avg_Q = [], []\n",
        "\n",
        "PATH='/content/drive/MyDrive/Colab Notebooks/'\n",
        "VIDEO_PATH = 'video/'\n",
        "MODEL_PATH = 'model.pt'\n",
        "steps_done = 0\n",
        "\n",
        "os.makedirs(PATH+VIDEO_PATH, exist_ok=True)\n",
        "\n",
        "for epoch in range (1, NUM_EPOCHS+1):\n",
        "    episode_rewards, episode_Q = [], []\n",
        "    for episode in count():\n",
        "        if steps_done // WEIGHT_UPDATE_PER_EPOCH >= epoch:\n",
        "            break\n",
        "\n",
        "        state = T.ToTensor()(np.array(env.reset())).unsqueeze(0)\n",
        "        cum_rewards, Q_value = 0.0, 0.0\n",
        "\n",
        "        for timestep in range(1, MAX_STEPS_PER_EPISODE):\n",
        "            action = select_action(state)\n",
        "            next_state, reward, done, _ = env.step(action.item())\n",
        "            next_state = T.ToTensor()(np.array(next_state)).unsqueeze(0)\n",
        "\n",
        "            optimize_model()\n",
        "            if done:\n",
        "                reward = -1.0\n",
        "                next_state = None\n",
        "\n",
        "            cum_rewards += reward\n",
        "            reward = torch.tensor([reward], device=device)\n",
        "            memory.push(state, action, next_state, reward)\n",
        "            state = next_state\n",
        "\n",
        "            if done:\n",
        "                episode_rewards.append(cum_rewards)\n",
        "                episode_Q.append(Q_value)\n",
        "                break\n",
        "\n",
        "        if steps_done % TARGET_UPDATE == 0:\n",
        "            target_net.load_state_dict(policy_net.state_dict())\n",
        "\n",
        "    epoch_avg_rewards.append(sum(episode_rewards)/len(episode_rewards))\n",
        "    epoch_avg_Q.append(sum(episode_Q)/len(episode_Q))\n",
        "    torch.save(target_net.state_dict(), PATH+MODEL_PATH)\n",
        "    plot_epoch_reward(epoch_avg_rewards, epoch_avg_Q)\n",
        "    create_policy_eval_video(filename=PATH+VIDEO_PATH+str(epoch)+'epoch', train=True)"
      ],
      "metadata": {
        "colab": {
          "base_uri": "https://localhost:8080/",
          "height": 340
        },
        "id": "QDq6DdY57gMF",
        "outputId": "546b83eb-1bb0-4399-9206-713cfb92095c"
      },
      "execution_count": null,
      "outputs": [
        {
          "output_type": "display_data",
          "data": {
            "text/plain": [
              "<Figure size 432x288 with 0 Axes>"
            ]
          },
          "metadata": {}
        },
        {
          "output_type": "display_data",
          "data": {
            "text/plain": [
              "<Figure size 576x288 with 2 Axes>"
            ],
            "image/png": "[encoded data removed]"
          },
          "metadata": {
            "needs_background": "light"
          }
        },
        {
          "output_type": "stream",
          "name": "stderr",
          "text": [
            "WARNING:root:IMAGEIO FFMPEG_WRITER WARNING: input image is not divisible by macro_block_size=16, resizing from (210, 160) to (224, 160) to ensure video compatibility with most codecs and players. To prevent resizing, make your input image divisible by the macro_block_size or set the macro_block_size to None (risking incompatibility). You may also see a FFMPEG warning concerning speedloss due to data not being aligned.\n"
          ]
        }
      ]
    }
  ]
}